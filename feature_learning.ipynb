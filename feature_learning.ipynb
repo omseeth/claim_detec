{
 "cells": [
  {
   "cell_type": "markdown",
   "metadata": {
    "pycharm": {
     "name": "#%% md\n"
    }
   },
   "source": [
    "# Notebook for classifying claims and non-claims, based on features and embeddings"
   ]
  },
  {
   "cell_type": "code",
   "execution_count": 1,
   "metadata": {
    "pycharm": {
     "name": "#%%\n"
    }
   },
   "outputs": [
    {
     "name": "stderr",
     "output_type": "stream",
     "text": [
      "/var/folders/27/byc0qlbn32q_h13vj86r6mqh0000gn/T/ipykernel_59700/3237227702.py:1: DeprecationWarning: \n",
      "Pyarrow will become a required dependency of pandas in the next major release of pandas (pandas 3.0),\n",
      "(to allow more performant data types, such as the Arrow string type, and better interoperability with other libraries)\n",
      "but was not found to be installed on your system.\n",
      "If this would cause problems for you,\n",
      "please provide us feedback at https://github.com/pandas-dev/pandas/issues/54466\n",
      "        \n",
      "  import pandas as pd\n"
     ]
    }
   ],
   "source": [
    "import pandas as pd\n",
    "import numpy as np\n",
    "import spacy\n",
    "\n",
    "from scripts.load_corpus import downsample, DaxenbergerModified, StabGurevychCorpus\n",
    "from scripts.load_embeddings import GloVe, Word2Vec\n",
    "from scripts.stop_words import StopWords\n",
    "\n",
    "from sklearn.base import TransformerMixin\n",
    "from sklearn.decomposition import TruncatedSVD\n",
    "from sklearn.feature_extraction import DictVectorizer\n",
    "from sklearn.feature_extraction.text import CountVectorizer\n",
    "from sklearn.linear_model import LogisticRegression\n",
    "from sklearn import metrics\n",
    "from sklearn.metrics import make_scorer\n",
    "from sklearn.metrics import precision_score, recall_score\n",
    "from sklearn.model_selection import cross_validate, StratifiedKFold, train_test_split\n",
    "from sklearn.pipeline import Pipeline, FeatureUnion\n",
    "from sklearn.preprocessing import StandardScaler"
   ]
  },
  {
   "cell_type": "markdown",
   "metadata": {
    "pycharm": {
     "name": "#%% md\n"
    }
   },
   "source": [
    "Loading corpus with script"
   ]
  },
  {
   "cell_type": "code",
   "execution_count": 2,
   "metadata": {
    "pycharm": {
     "name": "#%%\n"
    }
   },
   "outputs": [
    {
     "name": "stdout",
     "output_type": "stream",
     "text": [
      "<bound method NDFrame.head of                                                    text  target\n",
      "0     How can anyone expect children could do well a...       0\n",
      "1     Firstly , I think that the new high school wil...       1\n",
      "2     With technological advances , children have mo...       0\n",
      "3     Nowadays , many professors conduct research wh...       0\n",
      "4     In today ' s world there are many great and us...       0\n",
      "...                                                 ...     ...\n",
      "7046  Last but not least , knowledge is worth mentio...       1\n",
      "7047  To illustrate this point , I can write about m...       0\n",
      "7048  Consider a circumstance in which a student who...       0\n",
      "7049  in my opinion , reducing stress by listening t...       1\n",
      "7050  In addition , the basic economic course can al...       1\n",
      "\n",
      "[7051 rows x 2 columns]>\n"
     ]
    }
   ],
   "source": [
    "#corpus_1 = StabGurevychCorpus()\n",
    "#df_all = corpus_1.df_all\n",
    "#print(df_all.head)\n",
    "\n",
    "corpus_2 = DaxenbergerModified()\n",
    "df_all = corpus_2.df_all\n",
    "print(df_all.head)"
   ]
  },
  {
   "cell_type": "markdown",
   "metadata": {
    "pycharm": {
     "name": "#%% md\n"
    }
   },
   "source": [
    "Loading embeddings with script"
   ]
  },
  {
   "cell_type": "code",
   "execution_count": 3,
   "metadata": {
    "pycharm": {
     "name": "#%%\n"
    }
   },
   "outputs": [
    {
     "name": "stdout",
     "output_type": "stream",
     "text": [
      "Loading GloVe from file...\n",
      "### GloVe embeddings: ###\n",
      "Loading Word2Vec from file...\n",
      "### Word2Vec embeddings: ###\n"
     ]
    }
   ],
   "source": [
    "glove = GloVe()\n",
    "glove_embeddings = glove.load_model()\n",
    "print(\"### GloVe embeddings: ###\")\n",
    "#print(list(glove_embeddings.items())[:2])\n",
    "\n",
    "word2vec = Word2Vec()\n",
    "word2vec_embeddings = word2vec.load_model()\n",
    "print(\"### Word2Vec embeddings: ###\")\n",
    "#print(word2vec_embeddings.most_similar('toronto'))"
   ]
  },
  {
   "cell_type": "markdown",
   "metadata": {
    "pycharm": {
     "name": "#%% md\n"
    }
   },
   "source": [
    "Define custom tokenizer for later preprocessing"
   ]
  },
  {
   "cell_type": "code",
   "execution_count": 4,
   "metadata": {
    "pycharm": {
     "name": "#%%\n"
    }
   },
   "outputs": [
    {
     "name": "stdout",
     "output_type": "stream",
     "text": [
      "[',', 'dog', 'will', 'improve', 'the', 'quality', 'of', 'both', 'university', 'student', ',', 'place', 'people', 'in', 'position', 'which', 'suit', 'they', 'most']\n"
     ]
    }
   ],
   "source": [
    "# list of punctuation marks\n",
    "#punctuations = string.punctuation\n",
    "\n",
    "load_model = spacy.load(\"en_core_web_sm\", disable = ['parser','ner'])\n",
    "\n",
    "\n",
    "def custom_tokenizer(sentence):\n",
    "    \"\"\"\n",
    "    A customizable tokenizer to lemmatize words or remove stop words.\n",
    "\n",
    "    input: str of tokens\n",
    "    return: list with lemmatized tokens\n",
    "    \"\"\"\n",
    "    tokens = load_model(sentence)\n",
    "\n",
    "    # SpaCy stopwords without conjunctions and conjunctive adverbs\n",
    "    test_stop_words = StopWords()\n",
    "    \n",
    "    #stop_words = spacy.lang.en.stop_words.STOP_WORDS # all stop words\n",
    "    #stop_words = test_stop_words.STOP_WORDS # stop words without conjunctions\n",
    "    stop_words = test_stop_words.ALL_CONJUNCTIONS\n",
    "    \n",
    "    \n",
    "    \n",
    "    # lemmatizing each word and converting it to lower case\n",
    "    tokens = [token.lemma_ for token in tokens]\n",
    "\n",
    "    # removing stop words\n",
    "    tokens = [word for word in tokens if word not in stop_words]\n",
    "    \n",
    "    return tokens\n",
    "\n",
    "test_sent = \"However, dogs will improve the qualities of both universities and students, thus placing people in positions which suit them most\"\n",
    "\n",
    "print(custom_tokenizer(test_sent))\n",
    "\n",
    "def pos_tagging(sentence):\n",
    "    \"\"\"\n",
    "    A simple POS tagger, converting each word to its POS tag according to\n",
    "    SpaCy.\n",
    "\n",
    "    input: str of tokens\n",
    "    return: list of POS tags for each token\n",
    "    \"\"\"\n",
    "    tokens = load_model(sentence)\n",
    "    tokens = [token.pos_ for token in tokens]\n",
    "    \n",
    "    return tokens\n"
   ]
  },
  {
   "cell_type": "markdown",
   "metadata": {
    "pycharm": {
     "name": "#%% md\n"
    }
   },
   "source": [
    "Initializing scikit-learn Transformers for custom features"
   ]
  },
  {
   "cell_type": "code",
   "execution_count": 5,
   "metadata": {
    "pycharm": {
     "name": "#%%\n"
    }
   },
   "outputs": [
    {
     "name": "stdout",
     "output_type": "stream",
     "text": [
      "19\n"
     ]
    }
   ],
   "source": [
    "load_model = spacy.load(\"en_core_web_sm\", disable=['parser','ner'])\n",
    "\n",
    "\n",
    "class StatementLen(TransformerMixin):\n",
    "    \"\"\"\n",
    "    This class converts input text to its corresponding token length.\n",
    "    \"\"\"\n",
    "    def fit(self, X, y=None):\n",
    "        return self\n",
    "    \n",
    "    def text_len(self, text):\n",
    "        return len(text.split())\n",
    "    \n",
    "    def transform(self, X):\n",
    "        \"\"\"\n",
    "        Transform instances to their corresponding token length\n",
    "\n",
    "        input: str of tokens\n",
    "        return: dict with token length per instance\n",
    "        \"\"\"\n",
    "        feature_dicts = []\n",
    "\n",
    "        for text in X:\n",
    "            feature_dict = {\n",
    "                \"n_words_in_sentence\": self.text_len(text)\n",
    "            }\n",
    "            feature_dicts.append(feature_dict)\n",
    "\n",
    "        return feature_dicts\n",
    "\n",
    "\n",
    "class GloVeEmbeddings(TransformerMixin):\n",
    "    \"\"\" \n",
    "    This class helps with transforming text to corresponding embeddings\n",
    "    \"\"\"\n",
    "    def __init__(self):\n",
    "        pass\n",
    "    \n",
    "    def fit(self, X, y):\n",
    "        return self\n",
    "    \n",
    "    def embed(self, text):\n",
    "        \"\"\"\n",
    "        Creates phrase embeddings with GloVe, leveraging the linearity of \n",
    "        word vectors.\n",
    "\n",
    "        input: str\n",
    "        return: numpy array for phrase embedding of str\n",
    "        \"\"\"\n",
    "        embedding_dim = 300\n",
    "        phrase_embedding = np.zeros(embedding_dim)\n",
    "        count = 0\n",
    "\n",
    "        for word in text:\n",
    "            try:\n",
    "                phrase_embedding = np.add(phrase_embedding, glove_embeddings[word])\n",
    "            except KeyError:\n",
    "                continue\n",
    "            \n",
    "            count += 1\n",
    "\n",
    "        #if count != 0:\n",
    "        #    phrase_embedding = phrase_embedding / count\n",
    "\n",
    "        return phrase_embedding\n",
    "\n",
    "\n",
    "    def transform(self, X):\n",
    "        \"\"\"\n",
    "        Transform each instance into corresponding phrase embedding\n",
    "\n",
    "        input: list of strings\n",
    "        return: list of phrase embeddings\n",
    "        \"\"\"\n",
    "        embeddings = []\n",
    "        \n",
    "        for text in X:\n",
    "\n",
    "            # GloVe phrase embedding\n",
    "            embeddings.append(self.embed(text))\n",
    "\n",
    "        return embeddings\n",
    "\n",
    "\n",
    "class Word2VecEmbeddings(TransformerMixin):\n",
    "    \"\"\" \n",
    "    This class helps with transforming text to corresponding embeddings\n",
    "    \"\"\"\n",
    "    def __init__(self):\n",
    "        pass\n",
    "    \n",
    "    def fit(self, X, y):\n",
    "        return self\n",
    "    \n",
    "    def embed(self, text):\n",
    "        \"\"\"\n",
    "        Creates phrase embeddings with Word2Vec, leveraging the linearity of \n",
    "        word vectors.\n",
    "\n",
    "        input: str\n",
    "        return: numpy array for phrase embedding of str\n",
    "        \"\"\"\n",
    "        embedding_dim = 300\n",
    "        phrase_embedding = np.zeros(embedding_dim)\n",
    "        count = 0\n",
    "\n",
    "        for word in text:\n",
    "            try:\n",
    "                phrase_embedding = np.add(phrase_embedding, word2vec_embeddings[word])\n",
    "            except:\n",
    "                continue\n",
    "            \n",
    "            count += 1\n",
    "\n",
    "        #if count != 0:\n",
    "        #    phrase_embedding = phrase_embedding / count\n",
    "\n",
    "        return phrase_embedding\n",
    "\n",
    "\n",
    "    def transform(self, X):\n",
    "        \"\"\"\n",
    "        Transform each instance into corresponding phrase embedding\n",
    "\n",
    "        input: list of strings\n",
    "        return: list of phrase embeddings\n",
    "        \"\"\"\n",
    "        embeddings = []\n",
    "        \n",
    "        for text in X:\n",
    "\n",
    "            # Word2Vec phrase embedding\n",
    "            embeddings.append(self.embed(text))\n",
    "\n",
    "        return embeddings\n",
    "\n",
    "\n",
    "# testing methods\n",
    "\n",
    "test_sent = \"This will improve the quality of both universities and students, thus placing people in positions which suit them most\"\n",
    "\n",
    "len_test = StatementLen()\n",
    "print(len_test.text_len(test_sent))"
   ]
  },
  {
   "cell_type": "markdown",
   "metadata": {
    "pycharm": {
     "name": "#%% md\n"
    }
   },
   "source": [
    "Splitting data into train, validation, and test set, applying single \n",
    "downsampling"
   ]
  },
  {
   "cell_type": "code",
   "execution_count": 6,
   "metadata": {
    "pycharm": {
     "name": "#%%\n"
    }
   },
   "outputs": [
    {
     "name": "stdout",
     "output_type": "stream",
     "text": [
      "(4935, 2)\n",
      "(2980,)\n"
     ]
    }
   ],
   "source": [
    "X = df_all[\"text\"]\n",
    "y = df_all[\"target\"]\n",
    "\n",
    "X_train, X_rem, y_train, y_rem = train_test_split(X, y,\n",
    "                                                  train_size=0.7,\n",
    "                                                  random_state=42)\n",
    "\n",
    "# downsampling after split:\n",
    "\n",
    "X_tr = pd.concat([X_train, y_train], axis=1)\n",
    "print(X_tr.shape)\n",
    "\n",
    "downsample_man = downsample(X_tr)\n",
    "X_train = downsample_man[\"text\"]\n",
    "y_train = downsample_man[\"target\"]\n",
    "print(X_train.shape)\n",
    "\n",
    "X_valid, X_test, y_valid, y_test = train_test_split(X_rem,y_rem, \n",
    "                                                    test_size=0.5,\n",
    "                                                    random_state=42)"
   ]
  },
  {
   "cell_type": "markdown",
   "metadata": {
    "pycharm": {
     "name": "#%% md\n"
    }
   },
   "source": [
    "Defining classifier"
   ]
  },
  {
   "cell_type": "code",
   "execution_count": 7,
   "metadata": {
    "pycharm": {
     "name": "#%%\n"
    }
   },
   "outputs": [],
   "source": [
    "# Logistic Regression classifier\n",
    "\n",
    "classifier_LR = LogisticRegression(solver='lbfgs', max_iter=1000)"
   ]
  },
  {
   "cell_type": "markdown",
   "metadata": {
    "pycharm": {
     "name": "#%% md\n"
    }
   },
   "source": [
    "Creating pipeline union"
   ]
  },
  {
   "cell_type": "code",
   "execution_count": 8,
   "metadata": {
    "pycharm": {
     "name": "#%%\n"
    }
   },
   "outputs": [
    {
     "data": {
      "text/html": [
       "<style>#sk-container-id-1 {\n",
       "  /* Definition of color scheme common for light and dark mode */\n",
       "  --sklearn-color-text: black;\n",
       "  --sklearn-color-line: gray;\n",
       "  /* Definition of color scheme for unfitted estimators */\n",
       "  --sklearn-color-unfitted-level-0: #fff5e6;\n",
       "  --sklearn-color-unfitted-level-1: #f6e4d2;\n",
       "  --sklearn-color-unfitted-level-2: #ffe0b3;\n",
       "  --sklearn-color-unfitted-level-3: chocolate;\n",
       "  /* Definition of color scheme for fitted estimators */\n",
       "  --sklearn-color-fitted-level-0: #f0f8ff;\n",
       "  --sklearn-color-fitted-level-1: #d4ebff;\n",
       "  --sklearn-color-fitted-level-2: #b3dbfd;\n",
       "  --sklearn-color-fitted-level-3: cornflowerblue;\n",
       "\n",
       "  /* Specific color for light theme */\n",
       "  --sklearn-color-text-on-default-background: var(--sg-text-color, var(--theme-code-foreground, var(--jp-content-font-color1, black)));\n",
       "  --sklearn-color-background: var(--sg-background-color, var(--theme-background, var(--jp-layout-color0, white)));\n",
       "  --sklearn-color-border-box: var(--sg-text-color, var(--theme-code-foreground, var(--jp-content-font-color1, black)));\n",
       "  --sklearn-color-icon: #696969;\n",
       "\n",
       "  @media (prefers-color-scheme: dark) {\n",
       "    /* Redefinition of color scheme for dark theme */\n",
       "    --sklearn-color-text-on-default-background: var(--sg-text-color, var(--theme-code-foreground, var(--jp-content-font-color1, white)));\n",
       "    --sklearn-color-background: var(--sg-background-color, var(--theme-background, var(--jp-layout-color0, #111)));\n",
       "    --sklearn-color-border-box: var(--sg-text-color, var(--theme-code-foreground, var(--jp-content-font-color1, white)));\n",
       "    --sklearn-color-icon: #878787;\n",
       "  }\n",
       "}\n",
       "\n",
       "#sk-container-id-1 {\n",
       "  color: var(--sklearn-color-text);\n",
       "}\n",
       "\n",
       "#sk-container-id-1 pre {\n",
       "  padding: 0;\n",
       "}\n",
       "\n",
       "#sk-container-id-1 input.sk-hidden--visually {\n",
       "  border: 0;\n",
       "  clip: rect(1px 1px 1px 1px);\n",
       "  clip: rect(1px, 1px, 1px, 1px);\n",
       "  height: 1px;\n",
       "  margin: -1px;\n",
       "  overflow: hidden;\n",
       "  padding: 0;\n",
       "  position: absolute;\n",
       "  width: 1px;\n",
       "}\n",
       "\n",
       "#sk-container-id-1 div.sk-dashed-wrapped {\n",
       "  border: 1px dashed var(--sklearn-color-line);\n",
       "  margin: 0 0.4em 0.5em 0.4em;\n",
       "  box-sizing: border-box;\n",
       "  padding-bottom: 0.4em;\n",
       "  background-color: var(--sklearn-color-background);\n",
       "}\n",
       "\n",
       "#sk-container-id-1 div.sk-container {\n",
       "  /* jupyter's `normalize.less` sets `[hidden] { display: none; }`\n",
       "     but bootstrap.min.css set `[hidden] { display: none !important; }`\n",
       "     so we also need the `!important` here to be able to override the\n",
       "     default hidden behavior on the sphinx rendered scikit-learn.org.\n",
       "     See: https://github.com/scikit-learn/scikit-learn/issues/21755 */\n",
       "  display: inline-block !important;\n",
       "  position: relative;\n",
       "}\n",
       "\n",
       "#sk-container-id-1 div.sk-text-repr-fallback {\n",
       "  display: none;\n",
       "}\n",
       "\n",
       "div.sk-parallel-item,\n",
       "div.sk-serial,\n",
       "div.sk-item {\n",
       "  /* draw centered vertical line to link estimators */\n",
       "  background-image: linear-gradient(var(--sklearn-color-text-on-default-background), var(--sklearn-color-text-on-default-background));\n",
       "  background-size: 2px 100%;\n",
       "  background-repeat: no-repeat;\n",
       "  background-position: center center;\n",
       "}\n",
       "\n",
       "/* Parallel-specific style estimator block */\n",
       "\n",
       "#sk-container-id-1 div.sk-parallel-item::after {\n",
       "  content: \"\";\n",
       "  width: 100%;\n",
       "  border-bottom: 2px solid var(--sklearn-color-text-on-default-background);\n",
       "  flex-grow: 1;\n",
       "}\n",
       "\n",
       "#sk-container-id-1 div.sk-parallel {\n",
       "  display: flex;\n",
       "  align-items: stretch;\n",
       "  justify-content: center;\n",
       "  background-color: var(--sklearn-color-background);\n",
       "  position: relative;\n",
       "}\n",
       "\n",
       "#sk-container-id-1 div.sk-parallel-item {\n",
       "  display: flex;\n",
       "  flex-direction: column;\n",
       "}\n",
       "\n",
       "#sk-container-id-1 div.sk-parallel-item:first-child::after {\n",
       "  align-self: flex-end;\n",
       "  width: 50%;\n",
       "}\n",
       "\n",
       "#sk-container-id-1 div.sk-parallel-item:last-child::after {\n",
       "  align-self: flex-start;\n",
       "  width: 50%;\n",
       "}\n",
       "\n",
       "#sk-container-id-1 div.sk-parallel-item:only-child::after {\n",
       "  width: 0;\n",
       "}\n",
       "\n",
       "/* Serial-specific style estimator block */\n",
       "\n",
       "#sk-container-id-1 div.sk-serial {\n",
       "  display: flex;\n",
       "  flex-direction: column;\n",
       "  align-items: center;\n",
       "  background-color: var(--sklearn-color-background);\n",
       "  padding-right: 1em;\n",
       "  padding-left: 1em;\n",
       "}\n",
       "\n",
       "\n",
       "/* Toggleable style: style used for estimator/Pipeline/ColumnTransformer box that is\n",
       "clickable and can be expanded/collapsed.\n",
       "- Pipeline and ColumnTransformer use this feature and define the default style\n",
       "- Estimators will overwrite some part of the style using the `sk-estimator` class\n",
       "*/\n",
       "\n",
       "/* Pipeline and ColumnTransformer style (default) */\n",
       "\n",
       "#sk-container-id-1 div.sk-toggleable {\n",
       "  /* Default theme specific background. It is overwritten whether we have a\n",
       "  specific estimator or a Pipeline/ColumnTransformer */\n",
       "  background-color: var(--sklearn-color-background);\n",
       "}\n",
       "\n",
       "/* Toggleable label */\n",
       "#sk-container-id-1 label.sk-toggleable__label {\n",
       "  cursor: pointer;\n",
       "  display: block;\n",
       "  width: 100%;\n",
       "  margin-bottom: 0;\n",
       "  padding: 0.5em;\n",
       "  box-sizing: border-box;\n",
       "  text-align: center;\n",
       "}\n",
       "\n",
       "#sk-container-id-1 label.sk-toggleable__label-arrow:before {\n",
       "  /* Arrow on the left of the label */\n",
       "  content: \"▸\";\n",
       "  float: left;\n",
       "  margin-right: 0.25em;\n",
       "  color: var(--sklearn-color-icon);\n",
       "}\n",
       "\n",
       "#sk-container-id-1 label.sk-toggleable__label-arrow:hover:before {\n",
       "  color: var(--sklearn-color-text);\n",
       "}\n",
       "\n",
       "/* Toggleable content - dropdown */\n",
       "\n",
       "#sk-container-id-1 div.sk-toggleable__content {\n",
       "  max-height: 0;\n",
       "  max-width: 0;\n",
       "  overflow: hidden;\n",
       "  text-align: left;\n",
       "  /* unfitted */\n",
       "  background-color: var(--sklearn-color-unfitted-level-0);\n",
       "}\n",
       "\n",
       "#sk-container-id-1 div.sk-toggleable__content.fitted {\n",
       "  /* fitted */\n",
       "  background-color: var(--sklearn-color-fitted-level-0);\n",
       "}\n",
       "\n",
       "#sk-container-id-1 div.sk-toggleable__content pre {\n",
       "  margin: 0.2em;\n",
       "  border-radius: 0.25em;\n",
       "  color: var(--sklearn-color-text);\n",
       "  /* unfitted */\n",
       "  background-color: var(--sklearn-color-unfitted-level-0);\n",
       "}\n",
       "\n",
       "#sk-container-id-1 div.sk-toggleable__content.fitted pre {\n",
       "  /* unfitted */\n",
       "  background-color: var(--sklearn-color-fitted-level-0);\n",
       "}\n",
       "\n",
       "#sk-container-id-1 input.sk-toggleable__control:checked~div.sk-toggleable__content {\n",
       "  /* Expand drop-down */\n",
       "  max-height: 200px;\n",
       "  max-width: 100%;\n",
       "  overflow: auto;\n",
       "}\n",
       "\n",
       "#sk-container-id-1 input.sk-toggleable__control:checked~label.sk-toggleable__label-arrow:before {\n",
       "  content: \"▾\";\n",
       "}\n",
       "\n",
       "/* Pipeline/ColumnTransformer-specific style */\n",
       "\n",
       "#sk-container-id-1 div.sk-label input.sk-toggleable__control:checked~label.sk-toggleable__label {\n",
       "  color: var(--sklearn-color-text);\n",
       "  background-color: var(--sklearn-color-unfitted-level-2);\n",
       "}\n",
       "\n",
       "#sk-container-id-1 div.sk-label.fitted input.sk-toggleable__control:checked~label.sk-toggleable__label {\n",
       "  background-color: var(--sklearn-color-fitted-level-2);\n",
       "}\n",
       "\n",
       "/* Estimator-specific style */\n",
       "\n",
       "/* Colorize estimator box */\n",
       "#sk-container-id-1 div.sk-estimator input.sk-toggleable__control:checked~label.sk-toggleable__label {\n",
       "  /* unfitted */\n",
       "  background-color: var(--sklearn-color-unfitted-level-2);\n",
       "}\n",
       "\n",
       "#sk-container-id-1 div.sk-estimator.fitted input.sk-toggleable__control:checked~label.sk-toggleable__label {\n",
       "  /* fitted */\n",
       "  background-color: var(--sklearn-color-fitted-level-2);\n",
       "}\n",
       "\n",
       "#sk-container-id-1 div.sk-label label.sk-toggleable__label,\n",
       "#sk-container-id-1 div.sk-label label {\n",
       "  /* The background is the default theme color */\n",
       "  color: var(--sklearn-color-text-on-default-background);\n",
       "}\n",
       "\n",
       "/* On hover, darken the color of the background */\n",
       "#sk-container-id-1 div.sk-label:hover label.sk-toggleable__label {\n",
       "  color: var(--sklearn-color-text);\n",
       "  background-color: var(--sklearn-color-unfitted-level-2);\n",
       "}\n",
       "\n",
       "/* Label box, darken color on hover, fitted */\n",
       "#sk-container-id-1 div.sk-label.fitted:hover label.sk-toggleable__label.fitted {\n",
       "  color: var(--sklearn-color-text);\n",
       "  background-color: var(--sklearn-color-fitted-level-2);\n",
       "}\n",
       "\n",
       "/* Estimator label */\n",
       "\n",
       "#sk-container-id-1 div.sk-label label {\n",
       "  font-family: monospace;\n",
       "  font-weight: bold;\n",
       "  display: inline-block;\n",
       "  line-height: 1.2em;\n",
       "}\n",
       "\n",
       "#sk-container-id-1 div.sk-label-container {\n",
       "  text-align: center;\n",
       "}\n",
       "\n",
       "/* Estimator-specific */\n",
       "#sk-container-id-1 div.sk-estimator {\n",
       "  font-family: monospace;\n",
       "  border: 1px dotted var(--sklearn-color-border-box);\n",
       "  border-radius: 0.25em;\n",
       "  box-sizing: border-box;\n",
       "  margin-bottom: 0.5em;\n",
       "  /* unfitted */\n",
       "  background-color: var(--sklearn-color-unfitted-level-0);\n",
       "}\n",
       "\n",
       "#sk-container-id-1 div.sk-estimator.fitted {\n",
       "  /* fitted */\n",
       "  background-color: var(--sklearn-color-fitted-level-0);\n",
       "}\n",
       "\n",
       "/* on hover */\n",
       "#sk-container-id-1 div.sk-estimator:hover {\n",
       "  /* unfitted */\n",
       "  background-color: var(--sklearn-color-unfitted-level-2);\n",
       "}\n",
       "\n",
       "#sk-container-id-1 div.sk-estimator.fitted:hover {\n",
       "  /* fitted */\n",
       "  background-color: var(--sklearn-color-fitted-level-2);\n",
       "}\n",
       "\n",
       "/* Specification for estimator info (e.g. \"i\" and \"?\") */\n",
       "\n",
       "/* Common style for \"i\" and \"?\" */\n",
       "\n",
       ".sk-estimator-doc-link,\n",
       "a:link.sk-estimator-doc-link,\n",
       "a:visited.sk-estimator-doc-link {\n",
       "  float: right;\n",
       "  font-size: smaller;\n",
       "  line-height: 1em;\n",
       "  font-family: monospace;\n",
       "  background-color: var(--sklearn-color-background);\n",
       "  border-radius: 1em;\n",
       "  height: 1em;\n",
       "  width: 1em;\n",
       "  text-decoration: none !important;\n",
       "  margin-left: 1ex;\n",
       "  /* unfitted */\n",
       "  border: var(--sklearn-color-unfitted-level-1) 1pt solid;\n",
       "  color: var(--sklearn-color-unfitted-level-1);\n",
       "}\n",
       "\n",
       ".sk-estimator-doc-link.fitted,\n",
       "a:link.sk-estimator-doc-link.fitted,\n",
       "a:visited.sk-estimator-doc-link.fitted {\n",
       "  /* fitted */\n",
       "  border: var(--sklearn-color-fitted-level-1) 1pt solid;\n",
       "  color: var(--sklearn-color-fitted-level-1);\n",
       "}\n",
       "\n",
       "/* On hover */\n",
       "div.sk-estimator:hover .sk-estimator-doc-link:hover,\n",
       ".sk-estimator-doc-link:hover,\n",
       "div.sk-label-container:hover .sk-estimator-doc-link:hover,\n",
       ".sk-estimator-doc-link:hover {\n",
       "  /* unfitted */\n",
       "  background-color: var(--sklearn-color-unfitted-level-3);\n",
       "  color: var(--sklearn-color-background);\n",
       "  text-decoration: none;\n",
       "}\n",
       "\n",
       "div.sk-estimator.fitted:hover .sk-estimator-doc-link.fitted:hover,\n",
       ".sk-estimator-doc-link.fitted:hover,\n",
       "div.sk-label-container:hover .sk-estimator-doc-link.fitted:hover,\n",
       ".sk-estimator-doc-link.fitted:hover {\n",
       "  /* fitted */\n",
       "  background-color: var(--sklearn-color-fitted-level-3);\n",
       "  color: var(--sklearn-color-background);\n",
       "  text-decoration: none;\n",
       "}\n",
       "\n",
       "/* Span, style for the box shown on hovering the info icon */\n",
       ".sk-estimator-doc-link span {\n",
       "  display: none;\n",
       "  z-index: 9999;\n",
       "  position: relative;\n",
       "  font-weight: normal;\n",
       "  right: .2ex;\n",
       "  padding: .5ex;\n",
       "  margin: .5ex;\n",
       "  width: min-content;\n",
       "  min-width: 20ex;\n",
       "  max-width: 50ex;\n",
       "  color: var(--sklearn-color-text);\n",
       "  box-shadow: 2pt 2pt 4pt #999;\n",
       "  /* unfitted */\n",
       "  background: var(--sklearn-color-unfitted-level-0);\n",
       "  border: .5pt solid var(--sklearn-color-unfitted-level-3);\n",
       "}\n",
       "\n",
       ".sk-estimator-doc-link.fitted span {\n",
       "  /* fitted */\n",
       "  background: var(--sklearn-color-fitted-level-0);\n",
       "  border: var(--sklearn-color-fitted-level-3);\n",
       "}\n",
       "\n",
       ".sk-estimator-doc-link:hover span {\n",
       "  display: block;\n",
       "}\n",
       "\n",
       "/* \"?\"-specific style due to the `<a>` HTML tag */\n",
       "\n",
       "#sk-container-id-1 a.estimator_doc_link {\n",
       "  float: right;\n",
       "  font-size: 1rem;\n",
       "  line-height: 1em;\n",
       "  font-family: monospace;\n",
       "  background-color: var(--sklearn-color-background);\n",
       "  border-radius: 1rem;\n",
       "  height: 1rem;\n",
       "  width: 1rem;\n",
       "  text-decoration: none;\n",
       "  /* unfitted */\n",
       "  color: var(--sklearn-color-unfitted-level-1);\n",
       "  border: var(--sklearn-color-unfitted-level-1) 1pt solid;\n",
       "}\n",
       "\n",
       "#sk-container-id-1 a.estimator_doc_link.fitted {\n",
       "  /* fitted */\n",
       "  border: var(--sklearn-color-fitted-level-1) 1pt solid;\n",
       "  color: var(--sklearn-color-fitted-level-1);\n",
       "}\n",
       "\n",
       "/* On hover */\n",
       "#sk-container-id-1 a.estimator_doc_link:hover {\n",
       "  /* unfitted */\n",
       "  background-color: var(--sklearn-color-unfitted-level-3);\n",
       "  color: var(--sklearn-color-background);\n",
       "  text-decoration: none;\n",
       "}\n",
       "\n",
       "#sk-container-id-1 a.estimator_doc_link.fitted:hover {\n",
       "  /* fitted */\n",
       "  background-color: var(--sklearn-color-fitted-level-3);\n",
       "}\n",
       "</style><div id=\"sk-container-id-1\" class=\"sk-top-container\"><div class=\"sk-text-repr-fallback\"><pre>Pipeline(steps=[(&#x27;combined_pipe&#x27;,\n",
       "                 FeatureUnion(transformer_list=[(&#x27;bow&#x27;,\n",
       "                                                 Pipeline(steps=[(&#x27;vectorizer&#x27;,\n",
       "                                                                  CountVectorizer(ngram_range=(1,\n",
       "                                                                                               2),\n",
       "                                                                                  token_pattern=None,\n",
       "                                                                                  tokenizer=&lt;function custom_tokenizer at 0x3afe99bc0&gt;))])),\n",
       "                                                (&#x27;statement_len&#x27;,\n",
       "                                                 Pipeline(steps=[(&#x27;len&#x27;,\n",
       "                                                                  &lt;__main__.StatementLen object at 0x3afccfb10&gt;),\n",
       "                                                                 (&#x27;dict_vectorizer&#x27;,\n",
       "                                                                  DictVectorizer())]))])),\n",
       "                (&#x27;classifier&#x27;, LogisticRegression(max_iter=1000))])</pre><b>In a Jupyter environment, please rerun this cell to show the HTML representation or trust the notebook. <br />On GitHub, the HTML representation is unable to render, please try loading this page with nbviewer.org.</b></div><div class=\"sk-container\" hidden><div class=\"sk-item sk-dashed-wrapped\"><div class=\"sk-label-container\"><div class=\"sk-label fitted sk-toggleable\"><input class=\"sk-toggleable__control sk-hidden--visually\" id=\"sk-estimator-id-1\" type=\"checkbox\" ><label for=\"sk-estimator-id-1\" class=\"sk-toggleable__label fitted sk-toggleable__label-arrow fitted\">&nbsp;&nbsp;Pipeline<a class=\"sk-estimator-doc-link fitted\" rel=\"noreferrer\" target=\"_blank\" href=\"https://scikit-learn.org/1.4/modules/generated/sklearn.pipeline.Pipeline.html\">?<span>Documentation for Pipeline</span></a><span class=\"sk-estimator-doc-link fitted\">i<span>Fitted</span></span></label><div class=\"sk-toggleable__content fitted\"><pre>Pipeline(steps=[(&#x27;combined_pipe&#x27;,\n",
       "                 FeatureUnion(transformer_list=[(&#x27;bow&#x27;,\n",
       "                                                 Pipeline(steps=[(&#x27;vectorizer&#x27;,\n",
       "                                                                  CountVectorizer(ngram_range=(1,\n",
       "                                                                                               2),\n",
       "                                                                                  token_pattern=None,\n",
       "                                                                                  tokenizer=&lt;function custom_tokenizer at 0x3afe99bc0&gt;))])),\n",
       "                                                (&#x27;statement_len&#x27;,\n",
       "                                                 Pipeline(steps=[(&#x27;len&#x27;,\n",
       "                                                                  &lt;__main__.StatementLen object at 0x3afccfb10&gt;),\n",
       "                                                                 (&#x27;dict_vectorizer&#x27;,\n",
       "                                                                  DictVectorizer())]))])),\n",
       "                (&#x27;classifier&#x27;, LogisticRegression(max_iter=1000))])</pre></div> </div></div><div class=\"sk-serial\"><div class=\"sk-item sk-dashed-wrapped\"><div class=\"sk-label-container\"><div class=\"sk-label fitted sk-toggleable\"><input class=\"sk-toggleable__control sk-hidden--visually\" id=\"sk-estimator-id-2\" type=\"checkbox\" ><label for=\"sk-estimator-id-2\" class=\"sk-toggleable__label fitted sk-toggleable__label-arrow fitted\">&nbsp;combined_pipe: FeatureUnion<a class=\"sk-estimator-doc-link fitted\" rel=\"noreferrer\" target=\"_blank\" href=\"https://scikit-learn.org/1.4/modules/generated/sklearn.pipeline.FeatureUnion.html\">?<span>Documentation for combined_pipe: FeatureUnion</span></a></label><div class=\"sk-toggleable__content fitted\"><pre>FeatureUnion(transformer_list=[(&#x27;bow&#x27;,\n",
       "                                Pipeline(steps=[(&#x27;vectorizer&#x27;,\n",
       "                                                 CountVectorizer(ngram_range=(1,\n",
       "                                                                              2),\n",
       "                                                                 token_pattern=None,\n",
       "                                                                 tokenizer=&lt;function custom_tokenizer at 0x3afe99bc0&gt;))])),\n",
       "                               (&#x27;statement_len&#x27;,\n",
       "                                Pipeline(steps=[(&#x27;len&#x27;,\n",
       "                                                 &lt;__main__.StatementLen object at 0x3afccfb10&gt;),\n",
       "                                                (&#x27;dict_vectorizer&#x27;,\n",
       "                                                 DictVectorizer())]))])</pre></div> </div></div><div class=\"sk-parallel\"><div class=\"sk-parallel-item\"><div class=\"sk-item\"><div class=\"sk-label-container\"><div class=\"sk-label fitted sk-toggleable\"><label>bow</label></div></div><div class=\"sk-serial\"><div class=\"sk-item\"><div class=\"sk-serial\"><div class=\"sk-item\"><div class=\"sk-estimator fitted sk-toggleable\"><input class=\"sk-toggleable__control sk-hidden--visually\" id=\"sk-estimator-id-3\" type=\"checkbox\" ><label for=\"sk-estimator-id-3\" class=\"sk-toggleable__label fitted sk-toggleable__label-arrow fitted\">&nbsp;CountVectorizer<a class=\"sk-estimator-doc-link fitted\" rel=\"noreferrer\" target=\"_blank\" href=\"https://scikit-learn.org/1.4/modules/generated/sklearn.feature_extraction.text.CountVectorizer.html\">?<span>Documentation for CountVectorizer</span></a></label><div class=\"sk-toggleable__content fitted\"><pre>CountVectorizer(ngram_range=(1, 2), token_pattern=None,\n",
       "                tokenizer=&lt;function custom_tokenizer at 0x3afe99bc0&gt;)</pre></div> </div></div></div></div></div></div></div><div class=\"sk-parallel-item\"><div class=\"sk-item\"><div class=\"sk-label-container\"><div class=\"sk-label fitted sk-toggleable\"><label>statement_len</label></div></div><div class=\"sk-serial\"><div class=\"sk-item\"><div class=\"sk-serial\"><div class=\"sk-item\"><div class=\"sk-estimator fitted sk-toggleable\"><input class=\"sk-toggleable__control sk-hidden--visually\" id=\"sk-estimator-id-4\" type=\"checkbox\" ><label for=\"sk-estimator-id-4\" class=\"sk-toggleable__label fitted sk-toggleable__label-arrow fitted\">StatementLen</label><div class=\"sk-toggleable__content fitted\"><pre>&lt;__main__.StatementLen object at 0x3afccfb10&gt;</pre></div> </div></div><div class=\"sk-item\"><div class=\"sk-estimator fitted sk-toggleable\"><input class=\"sk-toggleable__control sk-hidden--visually\" id=\"sk-estimator-id-5\" type=\"checkbox\" ><label for=\"sk-estimator-id-5\" class=\"sk-toggleable__label fitted sk-toggleable__label-arrow fitted\">&nbsp;DictVectorizer<a class=\"sk-estimator-doc-link fitted\" rel=\"noreferrer\" target=\"_blank\" href=\"https://scikit-learn.org/1.4/modules/generated/sklearn.feature_extraction.DictVectorizer.html\">?<span>Documentation for DictVectorizer</span></a></label><div class=\"sk-toggleable__content fitted\"><pre>DictVectorizer()</pre></div> </div></div></div></div></div></div></div></div></div><div class=\"sk-item\"><div class=\"sk-estimator fitted sk-toggleable\"><input class=\"sk-toggleable__control sk-hidden--visually\" id=\"sk-estimator-id-6\" type=\"checkbox\" ><label for=\"sk-estimator-id-6\" class=\"sk-toggleable__label fitted sk-toggleable__label-arrow fitted\">&nbsp;LogisticRegression<a class=\"sk-estimator-doc-link fitted\" rel=\"noreferrer\" target=\"_blank\" href=\"https://scikit-learn.org/1.4/modules/generated/sklearn.linear_model.LogisticRegression.html\">?<span>Documentation for LogisticRegression</span></a></label><div class=\"sk-toggleable__content fitted\"><pre>LogisticRegression(max_iter=1000)</pre></div> </div></div></div></div></div></div>"
      ],
      "text/plain": [
       "Pipeline(steps=[('combined_pipe',\n",
       "                 FeatureUnion(transformer_list=[('bow',\n",
       "                                                 Pipeline(steps=[('vectorizer',\n",
       "                                                                  CountVectorizer(ngram_range=(1,\n",
       "                                                                                               2),\n",
       "                                                                                  token_pattern=None,\n",
       "                                                                                  tokenizer=<function custom_tokenizer at 0x3afe99bc0>))])),\n",
       "                                                ('statement_len',\n",
       "                                                 Pipeline(steps=[('len',\n",
       "                                                                  <__main__.StatementLen object at 0x3afccfb10>),\n",
       "                                                                 ('dict_vectorizer',\n",
       "                                                                  DictVectorizer())]))])),\n",
       "                ('classifier', LogisticRegression(max_iter=1000))])"
      ]
     },
     "execution_count": 8,
     "metadata": {},
     "output_type": "execute_result"
    }
   ],
   "source": [
    "bow_pipe = Pipeline([ \n",
    "    (\"vectorizer\", CountVectorizer(tokenizer=custom_tokenizer,\n",
    "                                   ngram_range=(1,2),\n",
    "                                   token_pattern=None)),\n",
    "    ]\n",
    ")\n",
    "\n",
    "glove_pipe = Pipeline([\n",
    "    (\"phrase_embeddings\", GloVeEmbeddings()),\n",
    "    ]\n",
    ")\n",
    "\n",
    "word2vec_pipe = Pipeline([\n",
    "    (\"phrase_embeddings\", Word2VecEmbeddings()),\n",
    "    ]\n",
    ")\n",
    "\n",
    "statement_len_pipe = Pipeline([\n",
    "    (\"len\", StatementLen()),\n",
    "    (\"dict_vectorizer\", DictVectorizer()),\n",
    "    ]\n",
    ")\n",
    "\n",
    "pos_pipe = Pipeline([\n",
    "    (\"vectorizer\", CountVectorizer(tokenizer=pos_tagging,\n",
    "                                   ngram_range=(1,1),\n",
    "                                   token_pattern=None)),\n",
    "    ]\n",
    ")\n",
    "\n",
    "combined_pipe = FeatureUnion(\n",
    "    transformer_list=[\n",
    "        (\"bow\", bow_pipe),\n",
    "        #(\"glove_embeddings\", glove_pipe),\n",
    "        #(\"word2vec_embeddings\", word2vec_pipe),\n",
    "        #(\"pos_tag\", pos_pipe),\n",
    "        (\"statement_len\", statement_len_pipe),\n",
    "    ]\n",
    ")\n",
    "\n",
    "pipe = Pipeline([\n",
    "    (\"combined_pipe\", combined_pipe),\n",
    "    #(\"standardscaler\", StandardScaler(with_mean=False)),\n",
    "    (\"classifier\", classifier_LR),\n",
    "    ]\n",
    ")\n",
    "\n",
    "#print(X_train.head(), y_train.head())\n",
    "\n",
    "pipe.fit(X_train, y_train)\n"
   ]
  },
  {
   "cell_type": "markdown",
   "metadata": {
    "pycharm": {
     "name": "#%% md\n"
    }
   },
   "source": [
    "Evaluation with validation set:\n",
    "\n",
    "Prediction results: \\\n",
    "1 = claim \\\n",
    "0 = non-claim"
   ]
  },
  {
   "cell_type": "code",
   "execution_count": 9,
   "metadata": {
    "pycharm": {
     "name": "#%%\n"
    }
   },
   "outputs": [
    {
     "name": "stdout",
     "output_type": "stream",
     "text": [
      "              precision    recall  f1-score   support\n",
      "\n",
      "           0     0.8544    0.7200    0.7815       750\n",
      "           1     0.5070    0.7013    0.5886       308\n",
      "\n",
      "    accuracy                         0.7146      1058\n",
      "   macro avg     0.6807    0.7106    0.6850      1058\n",
      "weighted avg     0.7533    0.7146    0.7253      1058\n",
      "\n"
     ]
    }
   ],
   "source": [
    "y_pred_valid = pipe.predict(X_valid)\n",
    "\n",
    "#for (sample, pred) in zip(X_valid, y_pred):\n",
    "#    print(f\"{sample} \\n Prediction => {pred}\")\n",
    "\n",
    "cr = metrics.classification_report(y_valid.tolist(), y_pred_valid, digits=4)\n",
    "print(cr)\n"
   ]
  },
  {
   "cell_type": "markdown",
   "metadata": {
    "pycharm": {
     "name": "#%% md\n"
    }
   },
   "source": [
    "Evaluation with test set:\n",
    "\n",
    "Prediction results: \\\n",
    "1 = claim \\\n",
    "0 = non-claim"
   ]
  },
  {
   "cell_type": "code",
   "execution_count": 10,
   "metadata": {
    "pycharm": {
     "name": "#%%\n"
    }
   },
   "outputs": [
    {
     "name": "stdout",
     "output_type": "stream",
     "text": [
      "              precision    recall  f1-score   support\n",
      "\n",
      "           0     0.8592    0.7117    0.7785       763\n",
      "           1     0.4836    0.6983    0.5714       295\n",
      "\n",
      "    accuracy                         0.7079      1058\n",
      "   macro avg     0.6714    0.7050    0.6750      1058\n",
      "weighted avg     0.7544    0.7079    0.7208      1058\n",
      "\n"
     ]
    }
   ],
   "source": [
    "y_pred_test = pipe.predict(X_test)\n",
    "\n",
    "cr = metrics.classification_report(y_test.tolist(), y_pred_test, digits=4)\n",
    "print(cr)\n"
   ]
  },
  {
   "cell_type": "markdown",
   "metadata": {
    "pycharm": {
     "name": "#%% md\n"
    }
   },
   "source": [
    " 10 fold cross-validation with stratification"
   ]
  },
  {
   "cell_type": "code",
   "execution_count": 11,
   "metadata": {},
   "outputs": [
    {
     "name": "stdout",
     "output_type": "stream",
     "text": [
      "Recall 0: 0.7277069077875531\n",
      "Recall 1: 0.7027842333105492\n",
      "Macro Recall:0.7152455705490511\n",
      "Precision 0: 0.8533068561392128\n",
      "Precision 1: 0.5214824421951112\n",
      "Macro Precision:0.687394649167162\n",
      "F1 score for 0: 0.7855178845916085\n",
      "F1 score for 1: 0.5987088363270728\n",
      "Macro F1: 0.687394649167162\n"
     ]
    }
   ],
   "source": [
    "# manual setup with downsampling\n",
    "\n",
    "sk_folds = StratifiedKFold(n_splits = 10)\n",
    "recall0_all = []\n",
    "recall1_all = []\n",
    "precision0_all = []\n",
    "precision1_all = []\n",
    "\n",
    "for i_train, i_test in sk_folds.split(X, y):\n",
    "    X_train = df_all.iloc[i_train]\n",
    "    X_test = df_all.iloc[i_test]\n",
    "\n",
    "    down_sampled_X = downsample(X_train)\n",
    "\n",
    "    pipe.fit(down_sampled_X[\"text\"], down_sampled_X[\"target\"])\n",
    "    \n",
    "    predictions = pipe.predict(X_test[\"text\"])\n",
    "\n",
    "    recall0 = recall_score(X_test[\"target\"], predictions, pos_label=0)\n",
    "    recall0_all.append(recall0)\n",
    "    recall1 = recall_score(X_test[\"target\"], predictions, pos_label=1)\n",
    "    recall1_all.append(recall1)\n",
    "\n",
    "    precision0 = precision_score(X_test[\"target\"], predictions, pos_label=0)\n",
    "    precision0_all.append(precision0)\n",
    "    precision1 = precision_score(X_test[\"target\"], predictions, pos_label=1)\n",
    "    precision1_all.append(precision1)\n",
    "\n",
    "print(\"Recall 0: \" + str(np.mean(recall0_all)))\n",
    "print(\"Recall 1: \" + str(np.mean(recall1_all)))\n",
    "\n",
    "macro_recall = (np.mean(recall0_all) + np.mean(recall1_all))/2\n",
    "print(\"Macro Recall:\" + str(macro_recall))\n",
    "\n",
    "print(\"Precision 0: \" + str(np.mean(precision0_all)))\n",
    "print(\"Precision 1: \" + str(np.mean(precision1_all)))\n",
    "\n",
    "macro_precision = (np.mean(precision0_all) + np.mean(precision1_all))/2\n",
    "print(\"Macro Precision:\" + str(macro_precision))\n",
    "\n",
    "f1_0 = 2 * (np.mean(precision0_all) * np.mean(recall0_all) / (np.mean(precision0_all)+ np.mean(recall0_all)))\n",
    "f1_1 = 2 * (np.mean(precision1_all) * np.mean(recall1_all) / (np.mean(precision1_all)+ np.mean(recall1_all)))\n",
    "macro_f1 = 2 * ((macro_precision * macro_precision) / (macro_precision + macro_precision))\n",
    "\n",
    "print(\"F1 score for 0: \" + str(f1_0))\n",
    "print(\"F1 score for 1: \" + str(f1_1))\n",
    "print(\"Macro F1: \" + str(macro_f1))"
   ]
  }
 ],
 "metadata": {
  "kernelspec": {
   "display_name": ".venv",
   "language": "python",
   "name": "python3"
  },
  "language_info": {
   "codemirror_mode": {
    "name": "ipython",
    "version": 3
   },
   "file_extension": ".py",
   "mimetype": "text/x-python",
   "name": "python",
   "nbconvert_exporter": "python",
   "pygments_lexer": "ipython3",
   "version": "3.11.6"
  }
 },
 "nbformat": 4,
 "nbformat_minor": 2
}
